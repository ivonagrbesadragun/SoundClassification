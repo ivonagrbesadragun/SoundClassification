{
 "cells": [
  {
   "cell_type": "code",
   "execution_count": 53,
   "id": "dcf19772",
   "metadata": {},
   "outputs": [
    {
     "name": "stdout",
     "output_type": "stream",
     "text": [
      "Collecting seaborn\n",
      "  Downloading seaborn-0.13.0-py3-none-any.whl.metadata (5.3 kB)\n",
      "Requirement already satisfied: numpy!=1.24.0,>=1.20 in c:\\users\\meter\\appdata\\local\\packages\\pythonsoftwarefoundation.python.3.11_qbz5n2kfra8p0\\localcache\\local-packages\\python311\\site-packages (from seaborn) (1.26.0)\n",
      "Requirement already satisfied: pandas>=1.2 in c:\\users\\meter\\appdata\\local\\packages\\pythonsoftwarefoundation.python.3.11_qbz5n2kfra8p0\\localcache\\local-packages\\python311\\site-packages (from seaborn) (2.1.3)\n",
      "Requirement already satisfied: matplotlib!=3.6.1,>=3.3 in c:\\users\\meter\\appdata\\local\\packages\\pythonsoftwarefoundation.python.3.11_qbz5n2kfra8p0\\localcache\\local-packages\\python311\\site-packages (from seaborn) (3.8.2)\n",
      "Requirement already satisfied: contourpy>=1.0.1 in c:\\users\\meter\\appdata\\local\\packages\\pythonsoftwarefoundation.python.3.11_qbz5n2kfra8p0\\localcache\\local-packages\\python311\\site-packages (from matplotlib!=3.6.1,>=3.3->seaborn) (1.2.0)\n",
      "Requirement already satisfied: cycler>=0.10 in c:\\users\\meter\\appdata\\local\\packages\\pythonsoftwarefoundation.python.3.11_qbz5n2kfra8p0\\localcache\\local-packages\\python311\\site-packages (from matplotlib!=3.6.1,>=3.3->seaborn) (0.12.1)\n",
      "Requirement already satisfied: fonttools>=4.22.0 in c:\\users\\meter\\appdata\\local\\packages\\pythonsoftwarefoundation.python.3.11_qbz5n2kfra8p0\\localcache\\local-packages\\python311\\site-packages (from matplotlib!=3.6.1,>=3.3->seaborn) (4.45.0)\n",
      "Requirement already satisfied: kiwisolver>=1.3.1 in c:\\users\\meter\\appdata\\local\\packages\\pythonsoftwarefoundation.python.3.11_qbz5n2kfra8p0\\localcache\\local-packages\\python311\\site-packages (from matplotlib!=3.6.1,>=3.3->seaborn) (1.4.5)\n",
      "Requirement already satisfied: packaging>=20.0 in c:\\users\\meter\\appdata\\local\\packages\\pythonsoftwarefoundation.python.3.11_qbz5n2kfra8p0\\localcache\\local-packages\\python311\\site-packages (from matplotlib!=3.6.1,>=3.3->seaborn) (23.2)\n",
      "Requirement already satisfied: pillow>=8 in c:\\users\\meter\\appdata\\local\\packages\\pythonsoftwarefoundation.python.3.11_qbz5n2kfra8p0\\localcache\\local-packages\\python311\\site-packages (from matplotlib!=3.6.1,>=3.3->seaborn) (10.1.0)\n",
      "Requirement already satisfied: pyparsing>=2.3.1 in c:\\users\\meter\\appdata\\local\\packages\\pythonsoftwarefoundation.python.3.11_qbz5n2kfra8p0\\localcache\\local-packages\\python311\\site-packages (from matplotlib!=3.6.1,>=3.3->seaborn) (3.1.1)\n",
      "Requirement already satisfied: python-dateutil>=2.7 in c:\\users\\meter\\appdata\\local\\packages\\pythonsoftwarefoundation.python.3.11_qbz5n2kfra8p0\\localcache\\local-packages\\python311\\site-packages (from matplotlib!=3.6.1,>=3.3->seaborn) (2.8.2)\n",
      "Requirement already satisfied: pytz>=2020.1 in c:\\users\\meter\\appdata\\local\\packages\\pythonsoftwarefoundation.python.3.11_qbz5n2kfra8p0\\localcache\\local-packages\\python311\\site-packages (from pandas>=1.2->seaborn) (2023.3.post1)\n",
      "Requirement already satisfied: tzdata>=2022.1 in c:\\users\\meter\\appdata\\local\\packages\\pythonsoftwarefoundation.python.3.11_qbz5n2kfra8p0\\localcache\\local-packages\\python311\\site-packages (from pandas>=1.2->seaborn) (2023.3)\n",
      "Requirement already satisfied: six>=1.5 in c:\\users\\meter\\appdata\\local\\packages\\pythonsoftwarefoundation.python.3.11_qbz5n2kfra8p0\\localcache\\local-packages\\python311\\site-packages (from python-dateutil>=2.7->matplotlib!=3.6.1,>=3.3->seaborn) (1.16.0)\n",
      "Downloading seaborn-0.13.0-py3-none-any.whl (294 kB)\n",
      "   ---------------------------------------- 0.0/294.6 kB ? eta -:--:--\n",
      "   ---- ----------------------------------- 30.7/294.6 kB 1.3 MB/s eta 0:00:01\n",
      "   ---------------------------------------- 294.6/294.6 kB 4.5 MB/s eta 0:00:00\n",
      "Installing collected packages: seaborn\n",
      "Successfully installed seaborn-0.13.0\n",
      "Note: you may need to restart the kernel to use updated packages.\n"
     ]
    }
   ],
   "source": [
    "pip install seaborn"
   ]
  },
  {
   "cell_type": "code",
   "execution_count": 1,
   "id": "34241d45",
   "metadata": {},
   "outputs": [
    {
     "name": "stdout",
     "output_type": "stream",
     "text": [
      "WARNING:tensorflow:From C:\\Users\\Meter\\AppData\\Local\\Packages\\PythonSoftwareFoundation.Python.3.11_qbz5n2kfra8p0\\LocalCache\\local-packages\\Python311\\site-packages\\keras\\src\\losses.py:2976: The name tf.losses.sparse_softmax_cross_entropy is deprecated. Please use tf.compat.v1.losses.sparse_softmax_cross_entropy instead.\n",
      "\n"
     ]
    }
   ],
   "source": [
    "import tensorflow as tf\n",
    "from tensorflow import keras\n",
    "from keras import backend as K\n",
    "import numpy as np\n",
    "from sklearn.model_selection import ShuffleSplit\n",
    "import matplotlib.pyplot as plt\n",
    "import logging\n",
    "import os\n",
    "from sklearn.metrics import accuracy_score\n",
    "from tensorflow.keras.layers import BatchNormalization\n",
    "from keras.utils import plot_model\n",
    "from sklearn.metrics import confusion_matrix\n",
    "import seaborn as sns\n",
    "np.set_printoptions(suppress=True)"
   ]
  },
  {
   "cell_type": "code",
   "execution_count": 2,
   "id": "4d5f4bf6",
   "metadata": {
    "scrolled": true
   },
   "outputs": [],
   "source": [
    "# Memory fix\n",
    "gpus = tf.config.list_physical_devices('GPU')\n",
    "\n",
    "if gpus:\n",
    "    for gpu in gpus:\n",
    "       tf.config.experimental.set_memory_growth(gpu,True)"
   ]
  },
  {
   "cell_type": "code",
   "execution_count": 3,
   "id": "8e5d0fde",
   "metadata": {},
   "outputs": [],
   "source": [
    "# Working directories\n",
    "#data_dir = '/home/vita/tomo_home/project/image_dataset_grayscale_noise'\n",
    "#working_dir = '/home/vita/tomo_home/project/training_grayscale_noise'\n",
    "data_dir = 'C:/Users/Meter/Desktop/tomo_diplomski/python/data_rgb/'\n",
    "working_dir = 'C:/Users/Meter/Desktop/tomo_diplomski/python/training'"
   ]
  },
  {
   "cell_type": "code",
   "execution_count": 4,
   "id": "a1ee752a",
   "metadata": {},
   "outputs": [],
   "source": [
    "# Initiate logger\n",
    "logger = logging.getLogger('tensorflow')\n",
    "logger.setLevel(logging.INFO)\n",
    "formatter = logging.Formatter('%(message)s')"
   ]
  },
  {
   "cell_type": "code",
   "execution_count": 5,
   "id": "4956d805",
   "metadata": {},
   "outputs": [],
   "source": [
    "# Define parameters\n",
    "batch_size =16\n",
    "image_height = 128\n",
    "image_width = 128\n",
    "color_mode = 'rgb'\n",
    "no_of_channels = 3\n",
    "epochs = 10\n",
    "#folds = 10\n",
    "split_percentage = 0.25"
   ]
  },
  {
   "cell_type": "code",
   "execution_count": 6,
   "id": "441d11ff",
   "metadata": {},
   "outputs": [],
   "source": [
    "#Must change after every training\n",
    "training_no = 11"
   ]
  },
  {
   "cell_type": "code",
   "execution_count": 7,
   "id": "d04c968b",
   "metadata": {},
   "outputs": [],
   "source": [
    "# Create directory for training\n",
    "training_dir = os.path.join(working_dir, f'training_{training_no}')\n",
    "if not os.path.exists(training_dir):\n",
    "    os.makedirs(training_dir)\n",
    "else:\n",
    "    raise SystemExit(\"Training directory is already created!\")"
   ]
  },
  {
   "cell_type": "code",
   "execution_count": 6,
   "id": "ca60f94b",
   "metadata": {},
   "outputs": [
    {
     "name": "stdout",
     "output_type": "stream",
     "text": [
      "Found 65494 files belonging to 4 classes.\n"
     ]
    }
   ],
   "source": [
    "# Import dataset\n",
    "dataset = tf.keras.utils.image_dataset_from_directory(\n",
    "    data_dir,\n",
    "    class_names=['both', 'crackles', 'wheezes', 'normal'],\n",
    "    image_size=(image_height, image_width),\n",
    "    batch_size=batch_size,\n",
    "    color_mode=color_mode)\n",
    "\n",
    "AUTOTUNE = tf.data.AUTOTUNE\n",
    "dataset = dataset.cache().prefetch(buffer_size=AUTOTUNE)"
   ]
  },
  {
   "cell_type": "code",
   "execution_count": 7,
   "metadata": {},
   "outputs": [
    {
     "name": "stdout",
     "output_type": "stream",
     "text": [
      "Found 65494 files belonging to 4 classes.\n",
      "Using 49121 files for training.\n",
      "Found 65494 files belonging to 4 classes.\n",
      "Using 16373 files for validation.\n"
     ]
    }
   ],
   "source": [
    "seed_train_validation = 1 # Must be same for train_ds and val_ds\n",
    "shuffle_value = True\n",
    "validation_split = 0.25\n",
    "\n",
    "train_ds = tf.keras.utils.image_dataset_from_directory(\n",
    "directory ='C:/Users/Meter/Desktop/tomo_diplomski/python/data_rgb/',\n",
    "image_size = (128, 128),\n",
    "validation_split = validation_split,\n",
    "subset = \"training\",\n",
    "seed = seed_train_validation,\n",
    "color_mode = 'rgb',\n",
    "shuffle = shuffle_value)\n",
    "\n",
    "val_ds = tf.keras.utils.image_dataset_from_directory(\n",
    "directory ='C:/Users/Meter/Desktop/tomo_diplomski/python/data_rgb/',\n",
    "image_size = (128, 128),\n",
    "validation_split = validation_split,\n",
    "subset = \"validation\",\n",
    "seed = seed_train_validation,\n",
    "color_mode = 'rgb',\n",
    "shuffle = shuffle_value)"
   ]
  },
  {
   "cell_type": "markdown",
   "metadata": {},
   "source": [
    "determine how many batches of data are available in the validation set using tf.data.experimental.cardinality, and then move the two-third of them (2/3 of 30% = 20%) to a test set as follows"
   ]
  },
  {
   "cell_type": "code",
   "execution_count": 8,
   "metadata": {},
   "outputs": [],
   "source": [
    "val_batches = tf.data.experimental.cardinality(val_ds)\n",
    "test_ds = val_ds.take((2*val_batches) // 3)\n",
    "val_ds = val_ds.skip((2*val_batches) // 3)"
   ]
  },
  {
   "cell_type": "code",
   "execution_count": 9,
   "metadata": {},
   "outputs": [
    {
     "name": "stdout",
     "output_type": "stream",
     "text": [
      "Train: 1536\n",
      "Val: 171\n",
      "Test: 341\n"
     ]
    }
   ],
   "source": [
    "print(\"Train: \" + str(len(train_ds)))\n",
    "print(\"Val: \" + str(len(val_ds)))\n",
    "print(\"Test: \" + str(len(test_ds)))"
   ]
  },
  {
   "cell_type": "code",
   "execution_count": 12,
   "id": "1d22d103",
   "metadata": {},
   "outputs": [
    {
     "name": "stdout",
     "output_type": "stream",
     "text": [
      "WARNING:tensorflow:From C:\\Users\\Meter\\AppData\\Local\\Packages\\PythonSoftwareFoundation.Python.3.11_qbz5n2kfra8p0\\LocalCache\\local-packages\\Python311\\site-packages\\keras\\src\\layers\\pooling\\max_pooling2d.py:161: The name tf.nn.max_pool is deprecated. Please use tf.nn.max_pool2d instead.\n",
      "\n"
     ]
    }
   ],
   "source": [
    "\n",
    "input = keras.layers.Input(shape=(image_height, image_width, no_of_channels), name=\"input\")\n",
    "x = keras.layers.Rescaling(1./255)(input)\n",
    "x = keras.layers.Conv2D(32, 3, strides=(1, 3), padding='same')(x)\n",
    "x = keras.layers.LeakyReLU(alpha=0.1)(x)\n",
    "x = keras.layers.MaxPooling2D(pool_size=2, padding='valid')(x)\n",
    "x = keras.layers.Dropout(0.5)(x)\n",
    "x = keras.layers.Conv2D(64, 3, strides=(1, 3), padding='same')(x)\n",
    "x = keras.layers.LeakyReLU(alpha=0.1)(x)\n",
    "x = keras.layers.MaxPooling2D(pool_size=2, padding='valid')(x)\n",
    "x = keras.layers.Dropout(0.5)(x)\n",
    "hidden1 = keras.layers.Flatten()(x)\n",
    "\n",
    "hidden1 = keras.layers.Dense(100)(hidden1)\n",
    "hidden1 = keras.layers.LeakyReLU(alpha=0.1)(hidden1)\n",
    "hidden1 = keras.layers.Dropout(0.5)(hidden1)\n",
    "\n",
    "hidden2 = keras.layers.Dense(200)(hidden1)\n",
    "hidden2 = keras.layers.LeakyReLU(alpha=0.1)(hidden2)\n",
    "hidden2 = keras.layers.Dropout(0.5)(hidden2)\n",
    "\n",
    "hidden3 = keras.layers.Dense(100)(hidden2)\n",
    "hidden3 = keras.layers.LeakyReLU(alpha=0.3)(hidden3)\n",
    "hidden3 = keras.layers.Dropout(0.5)(hidden3)\n",
    "\n",
    "output = keras.layers.Dense(4, activation='softmax')(hidden3)"
   ]
  },
  {
   "cell_type": "code",
   "execution_count": 13,
   "id": "eed16ce9",
   "metadata": {},
   "outputs": [
    {
     "name": "stdout",
     "output_type": "stream",
     "text": [
      "WARNING:tensorflow:From C:\\Users\\Meter\\AppData\\Local\\Packages\\PythonSoftwareFoundation.Python.3.11_qbz5n2kfra8p0\\LocalCache\\local-packages\\Python311\\site-packages\\keras\\src\\optimizers\\__init__.py:309: The name tf.train.Optimizer is deprecated. Please use tf.compat.v1.train.Optimizer instead.\n",
      "\n"
     ]
    }
   ],
   "source": [
    "# Define callback - if weights don't change after 10 epochs stop training\n",
    "callback = keras.callbacks.EarlyStopping(monitor='val_loss', patience=10)\n",
    "\n",
    "# Create net for training\n",
    "net= keras.Model(input, output, name=\"CNN\")\n",
    "net.compile(loss='sparse_categorical_crossentropy', optimizer='rmsprop', metrics=['sparse_categorical_accuracy'])\n",
    "K.set_value(net.optimizer.learning_rate, 0.001)\n"
   ]
  },
  {
   "cell_type": "markdown",
   "id": "01e3b099",
   "metadata": {},
   "source": [
    "## Model 2"
   ]
  },
  {
   "cell_type": "code",
   "execution_count": 10,
   "id": "607d8758",
   "metadata": {},
   "outputs": [
    {
     "name": "stdout",
     "output_type": "stream",
     "text": [
      "WARNING:tensorflow:From C:\\Users\\Meter\\AppData\\Local\\Packages\\PythonSoftwareFoundation.Python.3.11_qbz5n2kfra8p0\\LocalCache\\local-packages\\Python311\\site-packages\\keras\\src\\backend.py:1398: The name tf.executing_eagerly_outside_functions is deprecated. Please use tf.compat.v1.executing_eagerly_outside_functions instead.\n",
      "\n",
      "WARNING:tensorflow:From C:\\Users\\Meter\\AppData\\Local\\Packages\\PythonSoftwareFoundation.Python.3.11_qbz5n2kfra8p0\\LocalCache\\local-packages\\Python311\\site-packages\\keras\\src\\layers\\pooling\\max_pooling2d.py:161: The name tf.nn.max_pool is deprecated. Please use tf.nn.max_pool2d instead.\n",
      "\n",
      "WARNING:tensorflow:From C:\\Users\\Meter\\AppData\\Local\\Packages\\PythonSoftwareFoundation.Python.3.11_qbz5n2kfra8p0\\LocalCache\\local-packages\\Python311\\site-packages\\keras\\src\\optimizers\\__init__.py:309: The name tf.train.Optimizer is deprecated. Please use tf.compat.v1.train.Optimizer instead.\n",
      "\n"
     ]
    }
   ],
   "source": [
    "net = tf.keras.models.load_model('my_model2.keras')"
   ]
  },
  {
   "cell_type": "code",
   "execution_count": 91,
   "id": "9bd08fd7",
   "metadata": {},
   "outputs": [],
   "source": [
    "net.compile(loss='sparse_categorical_crossentropy', optimizer='adam', metrics=['sparse_categorical_accuracy'])\n",
    "K.set_value(net.optimizer.learning_rate, 0.001)"
   ]
  },
  {
   "cell_type": "code",
   "execution_count": 92,
   "metadata": {},
   "outputs": [
    {
     "name": "stdout",
     "output_type": "stream",
     "text": [
      "Epoch 1/100\n"
     ]
    },
    {
     "name": "stdout",
     "output_type": "stream",
     "text": [
      "1536/1536 [==============================] - 43s 27ms/step - loss: 0.8560 - sparse_categorical_accuracy: 0.6477 - val_loss: 0.9792 - val_sparse_categorical_accuracy: 0.5997\n",
      "Epoch 2/100\n",
      "1536/1536 [==============================] - 42s 27ms/step - loss: 0.8642 - sparse_categorical_accuracy: 0.6430 - val_loss: 1.0121 - val_sparse_categorical_accuracy: 0.5814\n",
      "Epoch 3/100\n",
      "1536/1536 [==============================] - 42s 27ms/step - loss: 0.8595 - sparse_categorical_accuracy: 0.6440 - val_loss: 0.9762 - val_sparse_categorical_accuracy: 0.5743\n",
      "Epoch 4/100\n",
      "1536/1536 [==============================] - 44s 28ms/step - loss: 0.8548 - sparse_categorical_accuracy: 0.6476 - val_loss: 0.9558 - val_sparse_categorical_accuracy: 0.6048\n",
      "Epoch 5/100\n",
      "1536/1536 [==============================] - 44s 28ms/step - loss: 0.8567 - sparse_categorical_accuracy: 0.6434 - val_loss: 0.9758 - val_sparse_categorical_accuracy: 0.5973\n",
      "Epoch 6/100\n",
      "1536/1536 [==============================] - 42s 28ms/step - loss: 0.8587 - sparse_categorical_accuracy: 0.6446 - val_loss: 0.9745 - val_sparse_categorical_accuracy: 0.6041\n",
      "Epoch 7/100\n",
      "1536/1536 [==============================] - 42s 27ms/step - loss: 0.8593 - sparse_categorical_accuracy: 0.6465 - val_loss: 0.9733 - val_sparse_categorical_accuracy: 0.5880\n",
      "Epoch 8/100\n",
      "1536/1536 [==============================] - 41s 27ms/step - loss: 0.8657 - sparse_categorical_accuracy: 0.6393 - val_loss: 0.9506 - val_sparse_categorical_accuracy: 0.6087\n",
      "Epoch 9/100\n",
      "1536/1536 [==============================] - 42s 27ms/step - loss: 0.8553 - sparse_categorical_accuracy: 0.6447 - val_loss: 0.9602 - val_sparse_categorical_accuracy: 0.5933\n",
      "Epoch 10/100\n",
      "1536/1536 [==============================] - 42s 28ms/step - loss: 0.8610 - sparse_categorical_accuracy: 0.6429 - val_loss: 0.9851 - val_sparse_categorical_accuracy: 0.5999\n",
      "Epoch 11/100\n",
      "1536/1536 [==============================] - 42s 27ms/step - loss: 0.8573 - sparse_categorical_accuracy: 0.6453 - val_loss: 0.9783 - val_sparse_categorical_accuracy: 0.5867\n",
      "Epoch 12/100\n",
      "1536/1536 [==============================] - 42s 27ms/step - loss: 0.8553 - sparse_categorical_accuracy: 0.6449 - val_loss: 0.9637 - val_sparse_categorical_accuracy: 0.5982\n",
      "Epoch 13/100\n",
      "1536/1536 [==============================] - 42s 27ms/step - loss: 0.8595 - sparse_categorical_accuracy: 0.6432 - val_loss: 0.9557 - val_sparse_categorical_accuracy: 0.5999\n",
      "Epoch 14/100\n",
      "1536/1536 [==============================] - 43s 28ms/step - loss: 0.8558 - sparse_categorical_accuracy: 0.6438 - val_loss: 0.9919 - val_sparse_categorical_accuracy: 0.5775\n"
     ]
    }
   ],
   "source": [
    "history = net.fit(train_ds,  epochs=100, callbacks=tf.keras.callbacks.EarlyStopping(monitor='loss', patience=10), validation_data=val_ds, shuffle=True)"
   ]
  },
  {
   "cell_type": "code",
   "execution_count": 93,
   "metadata": {},
   "outputs": [
    {
     "name": "stdout",
     "output_type": "stream",
     "text": [
      "0.6442662179470062 0.5977843105792999\n"
     ]
    }
   ],
   "source": [
    "print(np.median(history.history['sparse_categorical_accuracy']), np.median(history.history['val_sparse_categorical_accuracy']))"
   ]
  },
  {
   "cell_type": "code",
   "execution_count": 94,
   "metadata": {},
   "outputs": [
    {
     "name": "stdout",
     "output_type": "stream",
     "text": [
      "Evaluate on test data\n",
      "341/341 [==============================] - 3s 8ms/step - loss: 0.9846 - sparse_categorical_accuracy: 0.5818\n",
      "test loss, test acc: [0.9846464395523071, 0.5818365216255188]\n"
     ]
    }
   ],
   "source": [
    "print(\"Evaluate on test data\")\n",
    "results = net.evaluate(test_ds)\n",
    "print(\"test loss, test acc:\", results)"
   ]
  },
  {
   "cell_type": "code",
   "execution_count": 95,
   "metadata": {},
   "outputs": [
    {
     "name": "stdout",
     "output_type": "stream",
     "text": [
      "341/341 [==============================] - 3s 8ms/step\n",
      "Prediction accuracy: 0.4714992668621701\n"
     ]
    },
    {
     "data": {
      "image/png": "[encoded data removed]",
      "text/plain": [
       "<Figure size 640x480 with 2 Axes>"
      ]
     },
     "metadata": {},
     "output_type": "display_data"
    }
   ],
   "source": [
    "predictions = net.predict(test_ds)\n",
    "predicted_labels = tf.argmax(predictions, axis=1)\n",
    "\n",
    "true_labels = []\n",
    "for _, labels in test_ds:\n",
    "    true_labels.extend(labels.numpy())\n",
    "\n",
    "accuracy = accuracy_score(true_labels, predicted_labels)\n",
    "cm = confusion_matrix(true_labels, predicted_labels)\n",
    "print(\"Prediction accuracy: \"+str(accuracy))\n",
    "\n",
    "sns.heatmap(cm, annot=True, fmt='d', cmap='viridis', xticklabels=[0, 1, 2], yticklabels=[0, 1, 2])\n",
    "plt.xlabel('Predicted labels')\n",
    "plt.ylabel('True labels')\n",
    "plt.show()"
   ]
  },
  {
   "cell_type": "code",
   "execution_count": 96,
   "metadata": {},
   "outputs": [],
   "source": [
    "net.save('my_model2.keras')"
   ]
  },
  {
   "cell_type": "code",
   "execution_count": 11,
   "id": "c185daeb",
   "metadata": {},
   "outputs": [
    {
     "name": "stdout",
     "output_type": "stream",
     "text": [
      "Model: \"CNN\"\n",
      "_________________________________________________________________\n",
      " Layer (type)                Output Shape              Param #   \n",
      "=================================================================\n",
      " input (InputLayer)          [(None, 128, 128, 3)]     0         \n",
      "                                                                 \n",
      " rescaling_1 (Rescaling)     (None, 128, 128, 3)       0         \n",
      "                                                                 \n",
      " conv2d_1 (Conv2D)           (None, 128, 43, 32)       896       \n",
      "                                                                 \n",
      " leaky_re_lu_1 (LeakyReLU)   (None, 128, 43, 32)       0         \n",
      "                                                                 \n",
      " max_pooling2d (MaxPooling2  (None, 64, 21, 32)        0         \n",
      " D)                                                              \n",
      "                                                                 \n",
      " dropout (Dropout)           (None, 64, 21, 32)        0         \n",
      "                                                                 \n",
      " conv2d_2 (Conv2D)           (None, 64, 7, 64)         18496     \n",
      "                                                                 \n",
      " leaky_re_lu_2 (LeakyReLU)   (None, 64, 7, 64)         0         \n",
      "                                                                 \n",
      " max_pooling2d_1 (MaxPoolin  (None, 32, 3, 64)         0         \n",
      " g2D)                                                            \n",
      "                                                                 \n",
      " dropout_1 (Dropout)         (None, 32, 3, 64)         0         \n",
      "                                                                 \n",
      " flatten (Flatten)           (None, 6144)              0         \n",
      "                                                                 \n",
      " dense (Dense)               (None, 100)               614500    \n",
      "                                                                 \n",
      " leaky_re_lu_3 (LeakyReLU)   (None, 100)               0         \n",
      "                                                                 \n",
      " dropout_2 (Dropout)         (None, 100)               0         \n",
      "                                                                 \n",
      " dense_1 (Dense)             (None, 200)               20200     \n",
      "                                                                 \n",
      " leaky_re_lu_4 (LeakyReLU)   (None, 200)               0         \n",
      "                                                                 \n",
      " dropout_3 (Dropout)         (None, 200)               0         \n",
      "                                                                 \n",
      " dense_2 (Dense)             (None, 100)               20100     \n",
      "                                                                 \n",
      " leaky_re_lu_5 (LeakyReLU)   (None, 100)               0         \n",
      "                                                                 \n",
      " dropout_4 (Dropout)         (None, 100)               0         \n",
      "                                                                 \n",
      " dense_3 (Dense)             (None, 4)                 404       \n",
      "                                                                 \n",
      "=================================================================\n",
      "Total params: 674596 (2.57 MB)\n",
      "Trainable params: 674596 (2.57 MB)\n",
      "Non-trainable params: 0 (0.00 Byte)\n",
      "_________________________________________________________________\n"
     ]
    }
   ],
   "source": [
    "net.summary()"
   ]
  },
  {
   "cell_type": "markdown",
   "id": "2e8921f5",
   "metadata": {},
   "source": [
    "## Model 1"
   ]
  },
  {
   "cell_type": "code",
   "execution_count": 61,
   "metadata": {},
   "outputs": [],
   "source": [
    "new_model = tf.keras.models.load_model('my_model.keras')"
   ]
  },
  {
   "cell_type": "code",
   "execution_count": 62,
   "id": "e828847c",
   "metadata": {},
   "outputs": [
    {
     "name": "stdout",
     "output_type": "stream",
     "text": [
      "Model: \"CNN\"\n",
      "_________________________________________________________________\n",
      " Layer (type)                Output Shape              Param #   \n",
      "=================================================================\n",
      " input (InputLayer)          [(None, 128, 128, 3)]     0         \n",
      "                                                                 \n",
      " rescaling_4 (Rescaling)     (None, 128, 128, 3)       0         \n",
      "                                                                 \n",
      " conv2d_8 (Conv2D)           (None, 128, 43, 32)       896       \n",
      "                                                                 \n",
      " leaky_re_lu_14 (LeakyReLU)  (None, 128, 43, 32)       0         \n",
      "                                                                 \n",
      " max_pooling2d_8 (MaxPoolin  (None, 64, 21, 32)        0         \n",
      " g2D)                                                            \n",
      "                                                                 \n",
      " dropout_14 (Dropout)        (None, 64, 21, 32)        0         \n",
      "                                                                 \n",
      " conv2d_9 (Conv2D)           (None, 64, 7, 64)         18496     \n",
      "                                                                 \n",
      " leaky_re_lu_15 (LeakyReLU)  (None, 64, 7, 64)         0         \n",
      "                                                                 \n",
      " max_pooling2d_9 (MaxPoolin  (None, 32, 3, 64)         0         \n",
      " g2D)                                                            \n",
      "                                                                 \n",
      " dropout_15 (Dropout)        (None, 32, 3, 64)         0         \n",
      "                                                                 \n",
      " flatten_4 (Flatten)         (None, 6144)              0         \n",
      "                                                                 \n",
      " dense_10 (Dense)            (None, 1000)              6145000   \n",
      "                                                                 \n",
      " leaky_re_lu_16 (LeakyReLU)  (None, 1000)              0         \n",
      "                                                                 \n",
      " dropout_16 (Dropout)        (None, 1000)              0         \n",
      "                                                                 \n",
      " dense_11 (Dense)            (None, 500)               500500    \n",
      "                                                                 \n",
      " leaky_re_lu_17 (LeakyReLU)  (None, 500)               0         \n",
      "                                                                 \n",
      " dropout_17 (Dropout)        (None, 500)               0         \n",
      "                                                                 \n",
      " dense_12 (Dense)            (None, 100)               50100     \n",
      "                                                                 \n",
      " leaky_re_lu_18 (LeakyReLU)  (None, 100)               0         \n",
      "                                                                 \n",
      " dropout_18 (Dropout)        (None, 100)               0         \n",
      "                                                                 \n",
      " dense_13 (Dense)            (None, 4)                 404       \n",
      "                                                                 \n",
      "=================================================================\n",
      "Total params: 6715396 (25.62 MB)\n",
      "Trainable params: 6715396 (25.62 MB)\n",
      "Non-trainable params: 0 (0.00 Byte)\n",
      "_________________________________________________________________\n"
     ]
    }
   ],
   "source": [
    "new_model.summary()"
   ]
  },
  {
   "cell_type": "code",
   "execution_count": 18,
   "id": "2f676b1d",
   "metadata": {},
   "outputs": [],
   "source": [
    "new_model.compile(loss='sparse_categorical_crossentropy', optimizer='adam', metrics=['sparse_categorical_accuracy'])\n",
    "K.set_value(new_model.optimizer.learning_rate, 0.001)"
   ]
  },
  {
   "cell_type": "markdown",
   "metadata": {},
   "source": [
    "Nastavimo trenirati taj model. Ponovo ćemo spremiti model jer će se težine u mreži promijeniti."
   ]
  },
  {
   "cell_type": "code",
   "execution_count": null,
   "metadata": {},
   "outputs": [],
   "source": [
    "history = new_model.fit(train_ds,  epochs=20, callbacks=tf.keras.callbacks.EarlyStopping(monitor='loss', patience=10), validation_data=val_ds, shuffle=True)"
   ]
  },
  {
   "cell_type": "code",
   "execution_count": 45,
   "metadata": {},
   "outputs": [
    {
     "name": "stdout",
     "output_type": "stream",
     "text": [
      "0.8142647743225098 0.5923823416233063\n"
     ]
    }
   ],
   "source": [
    "print(np.median(history.history['sparse_categorical_accuracy']), np.median(history.history['val_sparse_categorical_accuracy']))\n"
   ]
  },
  {
   "cell_type": "code",
   "execution_count": 20,
   "metadata": {},
   "outputs": [
    {
     "name": "stdout",
     "output_type": "stream",
     "text": [
      "Evaluate on test data\n",
      "341/341 [==============================] - 3s 9ms/step - loss: 1.0323 - sparse_categorical_accuracy: 0.5433\n",
      "test loss, test acc: [1.0323212146759033, 0.5432551503181458]\n"
     ]
    }
   ],
   "source": [
    "print(\"Evaluate on test data\")\n",
    "results = new_model.evaluate(test_ds)\n",
    "print(\"test loss, test acc:\", results)"
   ]
  },
  {
   "cell_type": "code",
   "execution_count": 21,
   "metadata": {},
   "outputs": [
    {
     "name": "stdout",
     "output_type": "stream",
     "text": [
      "341/341 [==============================] - 3s 9ms/step\n",
      "Prediction accuracy:  0.3538306451612903\n"
     ]
    }
   ],
   "source": [
    "predictions = new_model.predict(test_ds)\n",
    "predicted_labels = tf.argmax(predictions, axis=1)\n",
    "true_labels = []\n",
    "for _, labels in test_ds:\n",
    "    true_labels.extend(labels.numpy())\n",
    "accuracy = accuracy_score(true_labels, predicted_labels)\n",
    "print(\"Prediction accuracy: \", accuracy)"
   ]
  },
  {
   "cell_type": "code",
   "execution_count": 22,
   "metadata": {},
   "outputs": [],
   "source": [
    "new_model.save('my_model.keras')"
   ]
  }
 ],
 "metadata": {
  "kernelspec": {
   "display_name": "Python 3 (ipykernel)",
   "language": "python",
   "name": "python3"
  },
  "language_info": {
   "codemirror_mode": {
    "name": "ipython",
    "version": 3
   },
   "file_extension": ".py",
   "mimetype": "text/x-python",
   "name": "python",
   "nbconvert_exporter": "python",
   "pygments_lexer": "ipython3",
   "version": "3.11.7"
  }
 },
 "nbformat": 4,
 "nbformat_minor": 5
}
